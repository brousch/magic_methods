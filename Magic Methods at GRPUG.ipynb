{
 "cells": [
  {
   "cell_type": "code",
   "execution_count": 2,
   "metadata": {},
   "outputs": [
    {
     "name": "stdout",
     "output_type": "stream",
     "text": [
      "There are 42 widget(s) on hand costing $100 each for a total of $4200.\n"
     ]
    }
   ],
   "source": [
    "# Let's start with this little program for printing out information and pricing for an item in inventory\n",
    "\n",
    "name = \"widget\"\n",
    "unit_price = 42\n",
    "quantity_on_hand = 100\n",
    "\n",
    "total_cost = unit_price * quantity_on_hand\n",
    "\n",
    "print(f\"There are {unit_price} {name}(s) on hand \" \\\n",
    "      f\"costing ${quantity_on_hand} each for a total of ${total_cost}.\")\n",
    "    "
   ]
  },
  {
   "cell_type": "code",
   "execution_count": 3,
   "metadata": {},
   "outputs": [
    {
     "name": "stdout",
     "output_type": "stream",
     "text": [
      "There are 42 widget(s) on hand costing $100 each for a total of $4200.\n"
     ]
    }
   ],
   "source": [
    "# To make it easier to deal with multiple items, we make it a class\n",
    "\n",
    "class InventoryItem:\n",
    "    name = \"\"\n",
    "    unit_price = 0\n",
    "    quantity_on_hand = 0\n",
    "\n",
    "item = InventoryItem()\n",
    "item.name = \"widget\"\n",
    "item.unit_price = 42\n",
    "item.quantity_on_hand = 100\n",
    "\n",
    "total_cost = item.unit_price * item.quantity_on_hand\n",
    "\n",
    "print(f\"There are {item.unit_price} {item.name}(s) on hand \" \\\n",
    "      f\"costing ${item.quantity_on_hand} each for a total of ${total_cost}.\")\n",
    "    "
   ]
  },
  {
   "cell_type": "code",
   "execution_count": 4,
   "metadata": {},
   "outputs": [
    {
     "name": "stdout",
     "output_type": "stream",
     "text": [
      "There are 42 widget(s) on hand costing $100 each for a total of $4200.\n"
     ]
    }
   ],
   "source": [
    "# We use our first magic method, __init__ to initialize the class\n",
    "\n",
    "class InventoryItem:\n",
    "    name = \"\"\n",
    "    unit_price = 0\n",
    "    quantity_on_hand = 0\n",
    "    \n",
    "    def __init__(self, name, unit_price, quantity_on_hand):\n",
    "        self.name = name\n",
    "        self.unit_price = unit_price\n",
    "        self.quantity_on_hand = quantity_on_hand\n",
    "    \n",
    "    def total_cost(self):\n",
    "        return self.unit_price * self.quantity_on_hand\n",
    "\n",
    "item = InventoryItem(\"widget\", 42, 100)\n",
    "\n",
    "print(f\"There are {item.unit_price} {item.name}(s) on hand \" \\\n",
    "      f\"costing ${item.quantity_on_hand} each for a total of ${item.total_cost()}.\")\n"
   ]
  },
  {
   "cell_type": "code",
   "execution_count": 5,
   "metadata": {},
   "outputs": [
    {
     "name": "stdout",
     "output_type": "stream",
     "text": [
      "<__main__.InventoryItem object at 0x7f64b0147198>\n"
     ]
    }
   ],
   "source": [
    "# What does our class look like if we print it?\n",
    "\n",
    "print(item)"
   ]
  },
  {
   "cell_type": "code",
   "execution_count": 6,
   "metadata": {},
   "outputs": [
    {
     "name": "stdout",
     "output_type": "stream",
     "text": [
      "There are 42 widget(s) on hand costing $100 each for a total of $4200.\n"
     ]
    }
   ],
   "source": [
    "# We use __str__ to make the class print how we want it to\n",
    "\n",
    "class InventoryItem:\n",
    "    name = \"\"\n",
    "    unit_price = 0\n",
    "    quantity_on_hand = 0\n",
    "    \n",
    "    def __init__(self, name, unit_price, quantity_on_hand):\n",
    "        self.name = name\n",
    "        self.unit_price = unit_price\n",
    "        self.quantity_on_hand = quantity_on_hand\n",
    "    \n",
    "    def total_cost(self):\n",
    "        return self.unit_price * self.quantity_on_hand\n",
    "    \n",
    "    def __str__(self):\n",
    "        return f\"There are {item.unit_price} {item.name}(s) on hand \" \\\n",
    "               f\"costing ${item.quantity_on_hand} each for a total of ${item.total_cost()}.\"\n",
    "\n",
    "item = InventoryItem(\"widget\", 42, 100)\n",
    "print(item)"
   ]
  },
  {
   "cell_type": "code",
   "execution_count": 7,
   "metadata": {},
   "outputs": [
    {
     "data": {
      "text/plain": [
       "'<__main__.InventoryItem object at 0x7f64b0147748>'"
      ]
     },
     "execution_count": 7,
     "metadata": {},
     "output_type": "execute_result"
    }
   ],
   "source": [
    "# That's the string representation, what about the official or machine representation?\n",
    "\n",
    "repr(item)"
   ]
  },
  {
   "cell_type": "code",
   "execution_count": 20,
   "metadata": {},
   "outputs": [
    {
     "data": {
      "text/plain": [
       "\"InventoryItem(name='widget', unit_price=42, quantity_on_hand=100)\""
      ]
     },
     "execution_count": 20,
     "metadata": {},
     "output_type": "execute_result"
    }
   ],
   "source": [
    "# We use __repr__ to make an eval-compatible representation of the class\n",
    "\n",
    "class InventoryItem:\n",
    "    name = \"\"\n",
    "    unit_price = 0\n",
    "    quantity_on_hand = 0\n",
    "    \n",
    "    def __init__(self, name, unit_price, quantity_on_hand):\n",
    "        self.name = name\n",
    "        self.unit_price = unit_price\n",
    "        self.quantity_on_hand = quantity_on_hand\n",
    "    \n",
    "    def total_cost(self):\n",
    "        return self.unit_price * self.quantity_on_hand\n",
    "    \n",
    "    def __str__(self):\n",
    "        return f\"There are {item.unit_price} {item.name}(s) on hand \" \\\n",
    "               f\"costing ${item.quantity_on_hand} each for a total of ${item.total_cost()}.\"\n",
    "    \n",
    "    def __repr__(self):\n",
    "        return f\"InventoryItem(name='{self.name}', unit_price={self.unit_price}, quantity_on_hand={self.quantity_on_hand})\"\n",
    "\n",
    "item = InventoryItem(\"widget\", 42, 100)\n",
    "repr(item)"
   ]
  },
  {
   "cell_type": "code",
   "execution_count": 21,
   "metadata": {},
   "outputs": [
    {
     "name": "stdout",
     "output_type": "stream",
     "text": [
      "InventoryItem(name='widget', unit_price=42, quantity_on_hand=100)\n",
      "InventoryItem(name='widget', unit_price=42, quantity_on_hand=100)\n",
      "There are 42 widget(s) on hand costing $100 each for a total of $4200.\n"
     ]
    }
   ],
   "source": [
    "# We can use the repr to recreate the class\n",
    "\n",
    "print(repr(item))\n",
    "item2 = eval(repr(item))\n",
    "print(repr(item2))\n",
    "print(item2)"
   ]
  },
  {
   "cell_type": "code",
   "execution_count": 4,
   "metadata": {},
   "outputs": [
    {
     "name": "stdout",
     "output_type": "stream",
     "text": [
      "Cmp Same:         True\n",
      "Cmp Other Named:  False\n",
      "Cmp Other Priced: False\n"
     ]
    }
   ],
   "source": [
    "# We use the __eq__ magic method to evaluate equality\n",
    "# Our items are considered the same if they have the same name and price\n",
    "\n",
    "class InventoryItem:\n",
    "    name = \"\"\n",
    "    unit_price = 0\n",
    "    quantity_on_hand = 0\n",
    "    \n",
    "    def __init__(self, name, unit_price, quantity_on_hand):\n",
    "        self.name = name\n",
    "        self.unit_price = unit_price\n",
    "        self.quantity_on_hand = quantity_on_hand\n",
    "    \n",
    "    def total_cost(self):\n",
    "        return self.unit_price * self.quantity_on_hand\n",
    "    \n",
    "    def __str__(self):\n",
    "        return f\"There are {item.unit_price} {item.name}(s) on hand \" \\\n",
    "               f\"costing ${item.quantity_on_hand} each for a total of ${item.total_cost()}.\"\n",
    "    \n",
    "    def __repr__(self):\n",
    "        return f\"InventoryItem(name='{self.name}', unit_price={self.unit_price}, quantity_on_hand={self.quantity_on_hand})\"\n",
    "\n",
    "    def __eq__(self, other):\n",
    "        self_tuple = (self.name, self.unit_price)\n",
    "        other_tuple = (other.name, other.unit_price)\n",
    "        return self_tuple == other_tuple\n",
    "    \n",
    "item = InventoryItem(\"widget\", 42, 100)\n",
    "same_item = InventoryItem(\"widget\", 42, 1)\n",
    "other_named_item = InventoryItem(\"wodget\", 42, 100)\n",
    "other_priced_item = InventoryItem(\"widget\", 100, 100)\n",
    "\n",
    "print(f\"Cmp Same:         {item == same_item}\")\n",
    "print(f\"Cmp Other Named:  {item == other_named_item}\")\n",
    "print(f\"Cmp Other Priced: {item == other_priced_item}\")\n"
   ]
  },
  {
   "cell_type": "code",
   "execution_count": 7,
   "metadata": {},
   "outputs": [
    {
     "name": "stdout",
     "output_type": "stream",
     "text": [
      "Cmp Same:         True\n"
     ]
    }
   ],
   "source": [
    "# We use the __cmp__ magic method to evaluate equality and order\n",
    "# You can define __eq__, __lt__, __le__, __gt__, __ge__ seperately, or all under __cmp__\n",
    "# Our items are compared first alphabetically by name, then by price, then by quantity_on_hand\n",
    "\n",
    "class InventoryItem:\n",
    "    name = \"\"\n",
    "    unit_price = 0\n",
    "    quantity_on_hand = 0\n",
    "    \n",
    "    def __init__(self, name, unit_price, quantity_on_hand):\n",
    "        self.name = name\n",
    "        self.unit_price = unit_price\n",
    "        self.quantity_on_hand = quantity_on_hand\n",
    "    \n",
    "    def total_cost(self):\n",
    "        return self.unit_price * self.quantity_on_hand\n",
    "    \n",
    "    def __str__(self):\n",
    "        return f\"There are {item.unit_price} {item.name}(s) on hand \" \\\n",
    "               f\"costing ${item.quantity_on_hand} each for a total of ${item.total_cost()}.\"\n",
    "    \n",
    "    def __repr__(self):\n",
    "        return f\"InventoryItem(name='{self.name}', unit_price={self.unit_price}, quantity_on_hand={self.quantity_on_hand})\"\n",
    "\n",
    "    def __eq__(self, other):\n",
    "        self_tuple = (self.name, self.unit_price)\n",
    "        other_tuple = (other.name, other.unit_price)\n",
    "        return self_tuple == other_tuple\n",
    "    \n",
    "    def __gt__(self, other):\n",
    "        if (self.name > other.name):\n",
    "            return True\n",
    "        elif (self.name < other.name):\n",
    "            return False\n",
    "        \n",
    "        if (self.unit_price > other.unit_price):\n",
    "            return True\n",
    "        elif (self.unit_price < other.unit_price):\n",
    "            return True\n",
    "        \n",
    "        if (self.quantity_on_hand > other.quantity_on_hand):\n",
    "            return True\n",
    "        elif (self.quantity_on_hand < other.quantity_on_hand):\n",
    "            return False\n",
    "        \n",
    "        return False\n",
    "    \n",
    "    def __ge__(self, other):\n",
    "        if (self.name > other.name):\n",
    "            return True\n",
    "        elif (self.name < other.name):\n",
    "            return False\n",
    "        \n",
    "        if (self.unit_price > other.unit_price):\n",
    "            return True\n",
    "        elif (self.unit_price < other.unit_price):\n",
    "            return True\n",
    "        \n",
    "        if (self.quantity_on_hand > other.quantity_on_hand):\n",
    "            return True\n",
    "        elif (self.quantity_on_hand < other.quantity_on_hand):\n",
    "            return False\n",
    "        \n",
    "        return True\n",
    "\n",
    "    def __lt__(self, other):\n",
    "        if (self.name < other.name):\n",
    "            return True\n",
    "        elif (self.name > other.name):\n",
    "            return False\n",
    "        \n",
    "        if (self.unit_price < other.unit_price):\n",
    "            return True\n",
    "        elif (self.unit_price > other.unit_price):\n",
    "            return True\n",
    "        \n",
    "        if (self.quantity_on_hand < other.quantity_on_hand):\n",
    "            return True\n",
    "        elif (self.quantity_on_hand > other.quantity_on_hand):\n",
    "            return False\n",
    "        \n",
    "        return False\n",
    "\n",
    "    def __le__(self, other):\n",
    "        if (self.name > other.name):\n",
    "            return True\n",
    "        elif (self.name < other.name):\n",
    "            return False\n",
    "        \n",
    "        if (self.unit_price > other.unit_price):\n",
    "            return True\n",
    "        elif (self.unit_price < other.unit_price):\n",
    "            return True\n",
    "        \n",
    "        if (self.quantity_on_hand > other.quantity_on_hand):\n",
    "            return True\n",
    "        elif (self.quantity_on_hand < other.quantity_on_hand):\n",
    "            return False\n",
    "        \n",
    "        return True\n",
    "    \n",
    "item = InventoryItem(\"widget\", 42, 100)\n",
    "same_item = InventoryItem(\"widget\", 42, 1)\n",
    "\n",
    "print(f\"Cmp Same:         {item > same_item}\")"
   ]
  },
  {
   "cell_type": "code",
   "execution_count": null,
   "metadata": {},
   "outputs": [],
   "source": [
    "# A Guide to Python's Magic Methods\n",
    "## Rafe Kettler\n",
    "## https://rszalski.github.io/magicmethods/\n",
    "\n",
    "# Enriching Your Python Classes With Dunder (Magic, Special) Methods\n",
    "## Bob Belderbos\n",
    "## https://dbader.org/blog/python-dunder-methods"
   ]
  }
 ],
 "metadata": {
  "kernelspec": {
   "display_name": "Python 3",
   "language": "python",
   "name": "python3"
  },
  "language_info": {
   "codemirror_mode": {
    "name": "ipython",
    "version": 3
   },
   "file_extension": ".py",
   "mimetype": "text/x-python",
   "name": "python",
   "nbconvert_exporter": "python",
   "pygments_lexer": "ipython3",
   "version": "3.7.2"
  }
 },
 "nbformat": 4,
 "nbformat_minor": 2
}
